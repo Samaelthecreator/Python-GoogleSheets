{
 "cells": [
  {
   "cell_type": "markdown",
   "metadata": {},
   "source": [
    "Control de hojas de google calculo de Google (Googlesheets) con Python en Jupyter Notebooks dentro de VSC."
   ]
  },
  {
   "cell_type": "markdown",
   "metadata": {},
   "source": [
    "Configuramos las credenciales dentro de Google Cloud Console partiendo. Creando una cuenta de servicio, habilitando la API de Google Sheets dentro del entorno y posteriormente creando las credenciales para descargar el archivo JSON y poderlo utilizar dentro del entorno VSC."
   ]
  },
  {
   "cell_type": "markdown",
   "metadata": {},
   "source": [
    "Al haber configurado las credenciales y las conexiones (API) dentro de Google Cloud Console, tenemos que instalar varias librerias dentro de el entorno python."
   ]
  },
  {
   "cell_type": "markdown",
   "metadata": {},
   "source": [
    "Para utilizar las librerias de google tenemos que importar las siguientes dependencias:\n",
    "\n",
    "**pip install --upgrade google-api-python-client google-auth-httplib2 google-auth-oauthlib**\n",
    "\n",
    "las cuales son 3 dependencias en total."
   ]
  },
  {
   "cell_type": "code",
   "execution_count": 79,
   "metadata": {},
   "outputs": [],
   "source": [
    "#Importamos librerias\n",
    "from google.oauth2 import service_account           #Utilizar la cuenta de servicio donde se descargaron las credenciales\n",
    "from googleapiclient.discovery import build         #Crear el objeto de servicio, que sera nuestro medio de conexión\n",
    "import gspread                                      #libreria de manipulación de hojas de calculo de google con python\n",
    "import pandas as pd\n",
    "import numpy as np                          #librerias de manipulacion de dato"
   ]
  },
  {
   "cell_type": "code",
   "execution_count": 2,
   "metadata": {},
   "outputs": [],
   "source": [
    "#Creamos las conexiones VSC-GoogleSheets\n",
    "\n",
    "#Creamos los documentos que necesitaremos para las credenciales\n",
    "\n",
    "ruta_permisos = \"D:/SITEC/permisos/sitecsolucionesyservicios-67cee8fd8c65.json\"          #ubicacion del archivo JSON con las credenciales\n",
    "alcances = ['https://www.googleapis.com/auth/spreadsheets']     #scopes: definen los alcances y capacidades que tendra la conexión\n",
    "\n",
    "#Creamos las credenciales\n",
    "#la entrada de la funcion from_service_account_file toma los accesos (archivo JSON) y que tanto alcance tendrán los mismos\n",
    "credenciales = service_account.Credentials.from_service_account_file(ruta_permisos, scopes = alcances)\n",
    "\n",
    "#Creamos el objeto que tendra la conexión entre la API google sheets & VSC\n",
    "#service_drive:\n",
    "\n",
    "service = build('sheets', 'v4', credentials=credenciales)    #build('ServiceName' , 'Version', credentials = 'ruta_credenciales')\n"
   ]
  },
  {
   "cell_type": "markdown",
   "metadata": {},
   "source": [
    "Operaciones básicas de control y manipulacion:\n",
    "La documentación proviene de Google Workspace para varios lenguajes:\n",
    "\n",
    "**https://developers.google.com/sheets/api/guides/concepts?hl=es-419**\n",
    "\n",
    "Tenemos el siguiente recurso:\n",
    "\n",
    "spreadhseets.values (ValueRange): Datos de  un rango de la hoja de calculo\n",
    "\n",
    "campos:\n",
    "\n",
    "|**range (string):** el rango que abarcan los valores en notacion celdas. Indican las celdas que se van a requerir\n",
    "ej:\n",
    "-**range = A1:B4**\n",
    "\n",
    "\n",
    "|**majorDimension (enum (dimension)):** Es la dimension principal de valores, y determinara si los datos se tomaran horizontalmente o verticalmente, las dos posibles opciones son: **ROWS** y **COLUMNS**\n",
    "ej:\n",
    "\n",
    "|-**majorDimension = ROWS**  : implica que tomará los valores del rango inicial al final de forma horizontal para este caso.\n",
    "si no se añade este campo, el valor predeterminado es ROWS.\n",
    "\n",
    "|**values []**: Los datos que se leyeron o se escribieron, tienen una estructura de array de arrays, el externo representa todos los datos y cada interno representa una dimension principal. cada elemento de la matriz interna corresponde a una celda.\n",
    "En el resultado, no se incluirán files y columnas finales vacias.\n",
    "los valores admitidos son: **bool** , **string**, **double**. Se omitiran los valores nulos.\n",
    "Para establecer un valor vacion en una celda, establece el valor de string en una string vacia\n",
    "\n"
   ]
  },
  {
   "cell_type": "markdown",
   "metadata": {},
   "source": [
    "Este recurso tiene varios metodos los cuales se presentarán a continuación:"
   ]
  },
  {
   "cell_type": "markdown",
   "metadata": {},
   "source": [
    "**append**  ,  **BatchUpdate**  ,  **update()**\n",
    "\n",
    "Parametros de ruta de acceso:\n",
    "\n",
    "**spreadsheetId: sp_id** :determina el ID de la hoja de calculo, se puede determinar abriendo la hoja de calculo en una pagina nueva y lo encuentras en el URL, la parte subrayada, ejemplo: \n",
    "\n",
    "-https://docs.google.com/spreadsheets/d/**1SElbxT0F96KqY9Q966tUr1WSUjdakH_ew7NtOKu3G0M**/edit#gid=0 \n",
    "\n",
    "\n",
    "**range** : La notacion de celdas (A1). OJO: *los valores se agregan despues de la ultima fila de la tabla que detecte en ese rango.*\n",
    "\n",
    "Parametros de consulta:\n",
    "**valueInputOption** : controla unicamente como se agregaran los datos de entrada a a la hoja (*columnas o filas*)\n",
    "existen 3 formas:\n",
    "\n",
    "°INPUT_VALUE_OPTION_UNSPECIFIED : valor de entrada predeterminado\n",
    "\n",
    "°RAW : los valores que ingresó el usiario no se analizarán y se almacenaran como están\n",
    "\n",
    "°USER_ENTERED : Los valores se analizarán como si el usuario los escribiera en la UI.\n",
    "\n",
    "\n",
    "\n",
    "**InsertDataOption** : Determina como se cambian los datos existentes cuando se ingresan datos nuevos.\n",
    "\n",
    "\n",
    "**includeValuesInResponse** : Determina si la respuesta de actualizacion debe incluir los valores de las celdas que se agregaron. De forma predeterminada, las respuestas no incluyen los valores actualizados. \n",
    "\n",
    "\n",
    "**responseValueRenderOption**.\n",
    "\n",
    "**responseDateTimeRenderOption**.\n",
    "\n",
    "SCOPES:\n",
    "\n",
    "°https://www.googleapis.com/auth/drive\n",
    "\n",
    "°https://www.googleapis.com/auth/drive.file\n",
    "\n",
    "°https://www.googleapis.com/auth/spreadsheets\n",
    "\n",
    "\n",
    "\n",
    "\n",
    "\n",
    "\n",
    "\n"
   ]
  },
  {
   "cell_type": "code",
   "execution_count": 17,
   "metadata": {},
   "outputs": [],
   "source": [
    "#append\n",
    "hoja = service.spreadsheets()\n",
    "\n",
    "sp_id = '1IElbxT0F96KqY9Q966tUr1WSUjdakH_ew7NtOKu3G0M'\n",
    "\n",
    "resappend = hoja.values().append(\n",
    "                        spreadsheetId =sp_id,\n",
    "                        range = 'Hoja 1!D1:H1',      #si no se selecciona la hoja, por default sera la primera hoja\n",
    "                        valueInputOption = 'USER_ENTERED',\n",
    "                        body = {'values' : [[23,3,3,3,22]]}).execute()    #Si detecta un valor en la celda que rescribiras, marcará error\n",
    "\n",
    "#Los resultados se guardan en formato diccionario\n"
   ]
  },
  {
   "cell_type": "code",
   "execution_count": 57,
   "metadata": {},
   "outputs": [],
   "source": [
    "#Update\n",
    "\n",
    "nombre_hoja = 'Hoja 1'\n",
    "range = 'B2'\n",
    "\n",
    "data = (\n",
    "        ('columna1','columna2','columna3','columna4'),\n",
    "                    (1,2,3,4),                              #Es importante denotar que la API de Google espera una lista de listas (lista anidada)\n",
    "                    (20,21,22,23,24)                        #para los datos, en este caso funciona por que son tupla de tulpas\n",
    ")                                                           #pero en general la API necesita una lista de listas.\n",
    "value_range_body_rows = {\n",
    "    \n",
    "    'majorDimension': 'ROWS',\n",
    "    'values' : data\n",
    "}\n",
    "\n",
    "\n",
    "value_range_body_columns = {\n",
    "    'majorDimension' : 'COLUMNS',\n",
    "    'values' : data\n",
    "}\n",
    "\n",
    "resupdate_rows = hoja.values().update(\n",
    "    spreadsheetId = sp_id,\n",
    "    range = 'Hoja 2!B4',    #Donde se insertará la data, tenemos que tener cuidado con los rangos de incersion de los datos \n",
    "    valueInputOption = 'USER_ENTERED',\n",
    "    body = value_range_body_rows\n",
    ").execute()\n",
    "\n",
    "resupdate_columns = hoja.values().update(\n",
    "    spreadsheetId = sp_id,\n",
    "    range = 'Hoja 3!B2',    #Donde se insertará la data, tenemos que tener cuidado con los rangos de incersion de los datos \n",
    "    valueInputOption = 'USER_ENTERED',\n",
    "    body = value_range_body_columns\n",
    ").execute()\n",
    "\n",
    "#OTRO EJEMPLO\n",
    "\n",
    "valores1 = [\n",
    "    [132,123,345,567,689,2345,245,578,345]\n",
    "]\n",
    "\n",
    "valores2 = [\n",
    "    [1,4,9,4,5,1,4,9,6] \n",
    "]\n",
    "valores3 = [\n",
    "    ['Hola', 'a', 'todos', 'como', 'estan?', 'los', 'saluda', 'Samael', 'TheCreator']\n",
    "]\n",
    "\n",
    "value_range_body = {\n",
    "    'majorDimension' : 'ROWS',\n",
    "    'values' : valores3\n",
    "}\n",
    "\n",
    "hoja.values().update(\n",
    "    spreadsheetId = sp_id,\n",
    "    range = 'Hoja 3!A1:I1',\n",
    "    valueInputOption = 'USER_ENTERED',\n",
    "    body = value_range_body\n",
    ").execute()\n"
   ]
  },
  {
   "cell_type": "code",
   "execution_count": null,
   "metadata": {},
   "outputs": [],
   "source": [
    "#batchUpdate                            #tiene errores\n",
    "\n",
    "resbatchupdate = hoja.values().batchUpdate(\n",
    "                spreadsheetId = sp_id,\n",
    "                range = 'Hoja 2!A1',        #si no se selecciona la hoja, por default sera la primera hoja\n",
    "                ValueInputOption = 'USER_ENTERED',\n",
    "                body = value_range_body_rows\n",
    "                ).execute()\n",
    "                "
   ]
  },
  {
   "cell_type": "markdown",
   "metadata": {},
   "source": [
    "Lectura de información\n",
    "\n",
    "La lectura de información requiere del modulo siguiente:"
   ]
  },
  {
   "cell_type": "markdown",
   "metadata": {},
   "source": [
    "**get()**\n",
    "\n",
    "El modulo get nos ayuda a capturar o extraer información del objeto al que se aplica.\n",
    "Para este caso tiene mismos parametros que la función append:\n",
    "\n",
    "|**spreadhseetId= sp_id** : Parametro de ruta, define el Id de la hoja de calculo\n",
    "\n",
    "|**range=** : define el rango de celdas que vas a capturar o leer los datos.\n",
    "OJO: *Si no determinas el range, la funcion por default te traera toda la información que hay en la hoja*\n"
   ]
  },
  {
   "cell_type": "code",
   "execution_count": 45,
   "metadata": {},
   "outputs": [],
   "source": [
    "#import os\n",
    "#from google import Create_Service"
   ]
  },
  {
   "cell_type": "code",
   "execution_count": 48,
   "metadata": {},
   "outputs": [
    {
     "name": "stdout",
     "output_type": "stream",
     "text": [
      "dict_keys(['range', 'majorDimension', 'values'])\n",
      "'Hoja 1'!A1:A7\n",
      "ROWS\n",
      "[['1'], ['2'], ['3'], ['prueba'], ['2'], ['2'], ['23']]\n"
     ]
    }
   ],
   "source": [
    "#get()\n",
    "lectura = hoja.values().get(\n",
    "        spreadsheetId= sp_id,\n",
    "       #majorDimension = 'ROWS' \n",
    "        range = 'Hoja 1!A1:A7').execute()   #si no se declara el rango, por default tomará toda la hoja\n",
    "\n",
    "print(lectura.keys())\n",
    "print(lectura['range'])\n",
    "print(lectura['majorDimension'])\n",
    "print(lectura['values'])\n",
    "\n",
    "#los resultados se guardan en formato diccionario: donde cada parametro es la clave y los valores el valor.\n",
    "\n",
    "\"\"\"\n",
    "columns = lectura['values'][0]\n",
    "data = lectura['values'][1:]\n",
    "df = pd.DataFrame(data,columns = columns)\n",
    "\"\"\""
   ]
  },
  {
   "cell_type": "code",
   "execution_count": 72,
   "metadata": {},
   "outputs": [
    {
     "name": "stdout",
     "output_type": "stream",
     "text": [
      "dict_keys(['spreadsheetId', 'valueRanges'])\n"
     ]
    }
   ],
   "source": [
    "#BatchGet() : Muestra uno o más rangos de valores de una hoja de cálculo. El emisor debe especificar el ID de la hoja de cálculo y uno o más rangos\n",
    "\n",
    "valueRange_body = [\n",
    "    'Hoja 1!A1:I1',\n",
    "    'Hoja 2!A1:I1',\n",
    "    'Hoja 3!A1:I1',\n",
    "]\n",
    "\n",
    "\n",
    "lecturabatch = hoja.values().batchGet(\n",
    "    spreadsheetId = sp_id,\n",
    "    majorDimension = 'ROWS',\n",
    "    ranges = valueRange_body\n",
    ").execute()\n",
    "\n",
    "print(lecturabatch.keys())"
   ]
  },
  {
   "cell_type": "code",
   "execution_count": 104,
   "metadata": {},
   "outputs": [
    {
     "name": "stdout",
     "output_type": "stream",
     "text": [
      "  columna1 columna2 columna3 columna4\n",
      "0      342      345      123        4\n",
      "1       21      123       64       75\n",
      "2        1   213123    23542   142323\n",
      "3       20   123123     2324      123\n"
     ]
    }
   ],
   "source": [
    "#Extraer datos y transformarlos a un DataFrame\n",
    "\n",
    "\n",
    "tabla = hoja.values().get(\n",
    "    spreadsheetId = sp_id,\n",
    "    majorDimension = 'ROWS',  \n",
    "    range = 'Hoja 2!B2:E6'\n",
    "    ).execute()\n",
    "\n",
    "#columnas = tabla[]\n",
    "#data = tabla[1:2]\n",
    "\n",
    "data = tabla['values'][1:]\n",
    "columnas = tabla['values'][0]\n",
    "dataframe = pd.DataFrame(data,columns=columnas)\n",
    "print(dataframe)"
   ]
  }
 ],
 "metadata": {
  "kernelspec": {
   "display_name": "base",
   "language": "python",
   "name": "python3"
  },
  "language_info": {
   "codemirror_mode": {
    "name": "ipython",
    "version": 3
   },
   "file_extension": ".py",
   "mimetype": "text/x-python",
   "name": "python",
   "nbconvert_exporter": "python",
   "pygments_lexer": "ipython3",
   "version": "3.9.13"
  }
 },
 "nbformat": 4,
 "nbformat_minor": 2
}
