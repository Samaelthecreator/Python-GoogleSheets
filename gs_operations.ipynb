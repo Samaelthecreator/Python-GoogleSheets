{
 "cells": [
  {
   "cell_type": "markdown",
   "metadata": {},
   "source": [
    "Control de hojas de google calculo de Google (Googlesheets) con Python en Jupyter Notebooks dentro de VSC."
   ]
  },
  {
   "cell_type": "markdown",
   "metadata": {},
   "source": [
    "Configuramos las credenciales dentro de Google Cloud Console partiendo. Creando una cuenta de servicio, habilitando la API de Google Sheets dentro del entorno y posteriormente creando las credenciales para descargar el archivo JSON y poderlo utilizar dentro del entorno VSC."
   ]
  },
  {
   "cell_type": "markdown",
   "metadata": {},
   "source": [
    "Al haber configurado las credenciales y las conexiones (API) dentro de Google Cloud Console, tenemos que instalar varias librerias dentro de el entorno python."
   ]
  },
  {
   "cell_type": "markdown",
   "metadata": {},
   "source": [
    "Para utilizar las librerias de google tenemos que importar las siguientes dependencias:\n",
    "\n",
    "**pip install --upgrade google-api-python-client google-auth-httplib2 google-auth-oauthlib**\n",
    "\n",
    "las cuales son 3 dependencias en total."
   ]
  },
  {
   "cell_type": "code",
   "execution_count": 1,
   "metadata": {},
   "outputs": [],
   "source": [
    "#Importamos librerias\n",
    "from google.oauth2 import service_account           #Utilizar la cuenta de servicio donde se descargaron las credenciales\n",
    "from googleapiclient.discovery import build         #Crear el objeto de servicio, que sera nuestro medio de conexión\n",
    "import gspread                                      #libreria de manipulación de hojas de calculo de google con python\n",
    "import pandas as pd\n",
    "import numpy as pd                                  #librerias de manipulacion de dato"
   ]
  },
  {
   "cell_type": "code",
   "execution_count": 6,
   "metadata": {},
   "outputs": [],
   "source": [
    "#Creamos las conexiones VSC-GoogleSheets\n",
    "\n",
    "#Creamos los documentos que necesitaremos para las credenciales\n",
    "\n",
    "ruta_permisos = \"D:/SITEC/permisos/sitecsolucionesyservicios-67cee8fd8c65.json\"          #ubicacion del archivo JSON con las credenciales\n",
    "alcances = ['https://www.googleapis.com/auth/spreadsheets']     #scopes: definen los alcances y capacidades que tendra la conexión\n",
    "\n",
    "#Creamos las credenciales\n",
    "#la entrada de la funcion from_service_account_file toma los accesos (archivo JSON) y que tanto alcance tendrán los mismos\n",
    "credenciales = service_account.Credentials.from_service_account_file(ruta_permisos, scopes = alcances)\n",
    "\n",
    "#Creamos el objeto que tendra la conexión entre la API google sheets & VSC\n",
    "#service_drive:\n",
    "\n",
    "service = build('sheets', 'v4', credentials=credenciales)    #build('ServiceName' , 'Version', credentials = 'ruta_credenciales')\n"
   ]
  },
  {
   "cell_type": "markdown",
   "metadata": {},
   "source": [
    "Operaciones básicas de control y manipulacion:\n",
    "La documentación proviene de Google Workspace para varios lenguajes:\n",
    "\n",
    "**https://developers.google.com/sheets/api/guides/concepts?hl=es-419**\n",
    "\n",
    "Tenemos el siguiente recurso:\n",
    "\n",
    "spreadhseets.values (ValueRange): Datos de  un rango de la hoja de calculo\n",
    "\n",
    "campos:\n",
    "\n",
    "|**range (string):** el rango que abarcan los valores en notacion celdas. Indican las celdas que se van a requerir\n",
    "ej:\n",
    "-**range = A1:B4**\n",
    "\n",
    "\n",
    "|**majorDimension (enum (dimension)):** Es la dimension principal de valores, y determinara si los datos se tomaran horizontalmente o verticalmente, las dos posibles opciones son: **ROWS** y **COLUMNS**\n",
    "ej:\n",
    "\n",
    "|-**majorDimension = ROWS**  : implica que tomará los valores del rango inicial al final de forma horizontal para este caso.\n",
    "si no se añade este campo, el valor predeterminado es ROWS.\n",
    "\n",
    "|**values []**: Los datos que se leyeron o se escribieron, tienen una estructura de array de arrays, el externo representa todos los datos y cada interno representa una dimension principal. cada elemento de la matriz interna corresponde a una celda.\n",
    "En el resultado, no se incluirán files y columnas finales vacias.\n",
    "los valores admitidos son: **bool** , **string**, **double**. Se omitiran los valores nulos.\n",
    "Para establecer un valor vacion en una celda, establece el valor de string en una string vacia\n",
    "\n"
   ]
  },
  {
   "cell_type": "markdown",
   "metadata": {},
   "source": [
    "Este recurso tiene varios metodos los cuales se presentarán a continuación:"
   ]
  },
  {
   "cell_type": "markdown",
   "metadata": {},
   "source": [
    "**APPEND**\n",
    "\n",
    "Parametros de ruta de acceso:\n",
    "\n",
    "**spreadsheetId: sp_id** :determina el ID de la hoja de calculo, se puede determinar abriendo la hoja de calculo en una pagina nueva y lo encuentras en el URL, la parte subrayada, ejemplo: \n",
    "\n",
    "-https://docs.google.com/spreadsheets/d/**1SElbxT0F96KqY9Q966tUr1WSUjdakH_ew7NtOKu3G0M**/edit#gid=0 \n",
    "\n",
    "\n",
    "**range** : La notacion de celdas (A1). OJO: *los valores se agregan despues de la ultima fila de la tabla que detecte en ese rango.*\n",
    "\n",
    "Parametros de consulta:\n",
    "**ValueInputOption** : controla unicamente como se agregaran los datos de entrada a a la hoja (*columnas o filas*)\n",
    "existen 3 formas:\n",
    "\n",
    "°INPUT_VALUE_OPTION_UNSPECIFIED : valor de entrada predeterminado\n",
    "\n",
    "°RAW : los valores que ingresó el usiario no se analizarán y se almacenaran como están\n",
    "\n",
    "°USER_ENTERED : Los valores se analizarán como si el usuario los escribiera en la UI.\n",
    "\n",
    "\n",
    "\n",
    "**InsertDataOption** : Determina como se cambian los datos existentes cuando se ingresan datos nuevos.\n",
    "\n",
    "\n",
    "**includeValuesInResponse** : Determina si la respuesta de actualizacion debe incluir los valores de las celdas que se agregaron. De forma predeterminada, las respuestas no incluyen los valores actualizados. \n",
    "\n",
    "\n",
    "**responseValueRenderOption**.\n",
    "\n",
    "**responseDateTimeRenderOption**.\n",
    "\n",
    "SCOPES:\n",
    "\n",
    "°https://www.googleapis.com/auth/drive\n",
    "\n",
    "°https://www.googleapis.com/auth/drive.file\n",
    "\n",
    "°https://www.googleapis.com/auth/spreadsheets\n",
    "\n",
    "\n",
    "\n",
    "\n",
    "\n",
    "\n",
    "\n"
   ]
  },
  {
   "cell_type": "code",
   "execution_count": 21,
   "metadata": {},
   "outputs": [],
   "source": [
    "hoja = service.spreadsheets()\n",
    "\n",
    "resultado = hoja.values().append(\n",
    "                        spreadsheetId = '1IElbxT0F96KqY9Q966tUr1WSUjdakH_ew7NtOKu3G0M',\n",
    "                        range = 'Hoja 1!D1:H1',\n",
    "                        valueInputOption = 'USER_ENTERED',\n",
    "                        body = {'values' : [[23,3,3,3,22]]}).execute()    #Si detecta un valor en la celda que rescribiras, marcará error\n"
   ]
  },
  {
   "cell_type": "markdown",
   "metadata": {},
   "source": []
  }
 ],
 "metadata": {
  "kernelspec": {
   "display_name": "base",
   "language": "python",
   "name": "python3"
  },
  "language_info": {
   "codemirror_mode": {
    "name": "ipython",
    "version": 3
   },
   "file_extension": ".py",
   "mimetype": "text/x-python",
   "name": "python",
   "nbconvert_exporter": "python",
   "pygments_lexer": "ipython3",
   "version": "3.9.13"
  }
 },
 "nbformat": 4,
 "nbformat_minor": 2
}
